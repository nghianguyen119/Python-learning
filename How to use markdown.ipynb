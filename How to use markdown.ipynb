{
 "cells": [
  {
   "cell_type": "markdown",
   "metadata": {
    "collapsed": false
   },
   "source": [
    "http://csrgxtu.github.io/2015/03/20/Writing-Mathematic-Fomulars-in-Markdown/\n",
    "    "
   ]
  },
  {
   "cell_type": "markdown",
   "metadata": {},
   "source": [
    "% Title This will change when it is converted into html file  \n",
    "% Author  \n",
    "% Date"
   ]
  },
  {
   "cell_type": "markdown",
   "metadata": {},
   "source": [
    "## Title 2"
   ]
  },
  {
   "cell_type": "markdown",
   "metadata": {},
   "source": [
    "https://github.com"
   ]
  },
  {
   "cell_type": "markdown",
   "metadata": {},
   "source": [
    "[Github](http://github.com)"
   ]
  },
  {
   "cell_type": "markdown",
   "metadata": {},
   "source": [
    "![](http://i.anhso.info/2015/10/21/fbb9cbcf731b504b146b0f7fe7c75bb3.jpg)"
   ]
  },
  {
   "cell_type": "markdown",
   "metadata": {},
   "source": [
    "<img  src=\"http://i.anhso.info/2015/10/21/fbb9cbcf731b504b146b0f7fe7c75bb3.jpg\" style=\"width: 400px;\"/>"
   ]
  },
  {
   "cell_type": "markdown",
   "metadata": {},
   "source": [
    "$\n",
    "\\begin{align}\n",
    "a = \\frac{1}{2} && b = \\frac{1}{3} && c = \\frac{1}{4} \\\\\n",
    "a && b && c\n",
    "\\end{align}\n",
    "$"
   ]
  },
  {
   "cell_type": "markdown",
   "metadata": {},
   "source": [
    "$$ a^2 = b_b $$\n",
    "\n",
    "\n",
    "abc  \n",
    "xyz $\\alpha$\n",
    "\n",
    "\n",
    "abc <br /> xyz\n",
    "\n",
    "\n",
    "\n",
    "\n",
    "| dsds \t|  \t| dsds \t| sds :\t| sds \t|\n",
    "|:------:\t|:----\t|:------\t|:--------\t|:------\t|\n",
    "| dsd \t|  \t| sds \t| dsd \t| sdsd \t|\n",
    "|  \t| sd \t| dsd \t|  \t|  \t|\n",
    "|  \t|  \t|  \t| dsdsds \t|  \t|\n",
    "\n",
    "<p style=\"text-align: center;\"> and </p>\n",
    "<center>Centered text</center>\n",
    "\n"
   ]
  },
  {
   "cell_type": "markdown",
   "metadata": {},
   "source": [
    "Inline formula $e^{i\\pi} + 1 = 0$  \n",
    "$e^{i\\pi} + 1 = 0$\n",
    "\n",
    "\n",
    "<p>Here is an example of AppleScript:</p>\n",
    "\n",
    "```tell application \"Foo\"\n",
    "    beep\n",
    "end tell\n",
    "```"
   ]
  },
  {
   "cell_type": "markdown",
   "metadata": {},
   "source": [
    "> This is a blockquote with two paragraphs. Lorem ipsum dolor sit amet,\n",
    "> consectetuer adipiscing elit. Aliquam hendrerit mi posuere lectus.\n",
    "> Vestibulum enim wisi, viverra nec, fringilla in, laoreet vitae, risus.\n",
    "> \n",
    "> Donec sit amet nisl. Aliquam semper ipsum sit amet velit. Suspendisse\n",
    "> id sem consectetuer libero luctus adipiscing.\n"
   ]
  },
  {
   "cell_type": "markdown",
   "metadata": {},
   "source": [
    "$$\\begin{align}\n",
    "    u  &= \\arctan x                                &  dv &= 1 \\, dx  \\\\ \n",
    "    du &= \\frac{1}{1 + x^2} dx  &  v  &= x.\n",
    "\\end{align}$$"
   ]
  },
  {
   "cell_type": "markdown",
   "metadata": {},
   "source": [
    "$$\\begin{align}\n",
    "x^2 + y^2 &= 1 \\\\\n",
    "y &= \\sqrt{1 - x^2}.\n",
    "\\end{align}$$"
   ]
  },
  {
   "cell_type": "markdown",
   "metadata": {},
   "source": [
    "$$\\begin{aligned}\n",
    "      \\text{Minimize } & x_1+x_2+x_3  \\\\\n",
    "      \\text{Subject to} &\\\\\n",
    "       & x_1+x_2 \\leq 10 \\\\\n",
    "       & x_2+x_3 \\leq 8 \\\\\n",
    "       & x_1+x_3 \\leq 5 \n",
    "     \\end{aligned}$$\n"
   ]
  },
  {
   "cell_type": "markdown",
   "metadata": {},
   "source": []
  },
  {
   "cell_type": "markdown",
   "metadata": {},
   "source": [
    "- gach dau dong\n",
    "<ul> \n",
    "u1 u1 u1u1u1u1u1u\n",
    "<li> lililililili </li>\n",
    "</ul>\n",
    "\n",
    "\n",
    "* ABC\n",
    "    * bcde\n",
    "    * efg\n",
    "        * DH\n",
    "        * HH\n",
    "            * HHHH"
   ]
  },
  {
   "cell_type": "markdown",
   "metadata": {},
   "source": [
    "\n",
    "\n",
    "  |row row| column 1|\n",
    "|----------------|---------|\n",
    "|abs|cde|\n",
    "|sdssdsd|dsd|"
   ]
  },
  {
   "cell_type": "markdown",
   "metadata": {},
   "source": [
    "> *quote this is a quote*"
   ]
  },
  {
   "cell_type": "markdown",
   "metadata": {},
   "source": [
    "Let's check out [Wikipedia][1] and [Google][2].\n",
    "...\n",
    "[1]: https://en.wikipedia.org \"Wikipedia\"\n",
    "[2]: https://www.google.com \"Google\""
   ]
  },
  {
   "cell_type": "markdown",
   "metadata": {},
   "source": [
    "John Gruber[^1]\n",
    "\n",
    "[^1]: writer, blog publisher, UI designer, the inventor of the Markdown publishing format. \n"
   ]
  },
  {
   "cell_type": "markdown",
   "metadata": {},
   "source": [
    "\\*bold\\*\n",
    "\n",
    "*to disable the sympol*"
   ]
  },
  {
   "cell_type": "markdown",
   "metadata": {},
   "source": [
    "---\n",
    "\n",
    "***\n",
    "\n",
    "___\n"
   ]
  },
  {
   "cell_type": "markdown",
   "metadata": {},
   "source": [
    " asterisk (*), plus (+), and hyphen (-) as list markers.\n",
    " + Right\n",
    " - Year\n",
    " * baby\n",
    " \n",
    " this is *italic* and this is **bold**, and this is ***bold and italic*** "
   ]
  },
  {
   "cell_type": "markdown",
   "metadata": {},
   "source": [
    "This is the code for ~~struck through~~ text.\n"
   ]
  },
  {
   "cell_type": "markdown",
   "metadata": {},
   "source": []
  },
  {
   "cell_type": "markdown",
   "metadata": {},
   "source": [
    "Text with a footnote.[^1]  \n",
    "[^1]: Here is the footnote.\n"
   ]
  },
  {
   "cell_type": "markdown",
   "metadata": {},
   "source": []
  },
  {
   "cell_type": "markdown",
   "metadata": {},
   "source": []
  },
  {
   "cell_type": "markdown",
   "metadata": {},
   "source": [
    "```sh\n",
    "mkdir /backup\n",
    "```\n",
    "\n",
    "~~~python\n",
    "import requests\n",
    "print()\n",
    "~~~ "
   ]
  },
  {
   "cell_type": "markdown",
   "metadata": {},
   "source": [
    "| Name | Description | age         \n",
    "| :- |-------------: | :-:\n",
    "|Mary| She is a nice girl.  | 20\n",
    "| Jackie Junior | He is a very naughty boy. |5\n"
   ]
  },
  {
   "cell_type": "raw",
   "metadata": {},
   "source": [
    "# $$c = \\sqrt{a^2 + b^2}$$"
   ]
  },
  {
   "cell_type": "markdown",
   "metadata": {},
   "source": [
    "$$c = \\sqrt{a^2 + b^2}$$"
   ]
  },
  {
   "cell_type": "code",
   "execution_count": 2,
   "metadata": {
    "collapsed": false
   },
   "outputs": [
    {
     "data": {
      "text/latex": [
       "$$F(k) = \\int_{-\\infty}^{\\infty} f(x) e^{2\\pi i k} dx$$"
      ],
      "text/plain": [
       "<IPython.core.display.Math object>"
      ]
     },
     "metadata": {},
     "output_type": "display_data"
    }
   ],
   "source": [
    "from IPython.display import display, Math, Latex\n",
    "display(Math(r'F(k) = \\int_{-\\infty}^{\\infty} f(x) e^{2\\pi i k} dx'))"
   ]
  },
  {
   "cell_type": "code",
   "execution_count": null,
   "metadata": {
    "collapsed": true
   },
   "outputs": [],
   "source": []
  },
  {
   "cell_type": "code",
   "execution_count": null,
   "metadata": {
    "collapsed": false
   },
   "outputs": [],
   "source": []
  },
  {
   "cell_type": "markdown",
   "metadata": {},
   "source": [
    "x\n",
    "\n",
    "Historique\n",
    "-----------\n",
    "\n",
    "En 2012, je cherchais à mettre la main sur le texte d'une Bible de Genève du XVIIe siècle.\n",
    "L'université de Tours a un scan complet d'un tel ouvrage disponible [en ligne](http://www.bvh.univ-tours.fr/Consult/index.asp?numtable=B372615206_18229&numfiche=571&mode=1&offset=15&ecran=0&url=).\n",
    "\n",
    "Je travaillais à l'époque sur l'édition d'un livre utilisant la police open-source [EB Garamond](http://www.georgduffner.at/ebgaramond/), et savais que son auteur, Georg Duffner, était à la recherche de specimen pour peaufiner sa police. Je lui ai donc proposé de jeter un œil à l'ouvrage, et l'idée a germé de tenter de reproduire cette Bible en utilisant la police EB Garamond et XeLaTeX.\n",
    "\n",
    "\n"
   ]
  },
  {
   "cell_type": "code",
   "execution_count": null,
   "metadata": {
    "collapsed": true
   },
   "outputs": [],
   "source": []
  },
  {
   "cell_type": "code",
   "execution_count": 1,
   "metadata": {
    "collapsed": false
   },
   "outputs": [
    {
     "data": {
      "text/html": [
       "\n",
       "<style>\n",
       "\n",
       "div.cell { /* Tunes the space between cells */\n",
       "margin-top:1em;\n",
       "margin-bottom:1em;\n",
       "}\n",
       "\n",
       "div.text_cell_render h1 { /* Main titles bigger, centered */\n",
       "font-size: 2.2em;\n",
       "line-height:1.4em;\n",
       "text-align:center;\n",
       "}\n",
       "\n",
       "div.text_cell_render h2 { /*  Parts names nearer from text */\n",
       "margin-bottom: -0.4em;\n",
       "}\n",
       "\n",
       "\n",
       "div.text_cell_render { /* Customize text cells */\n",
       "font-family: 'Times New Roman';\n",
       "font-size:1.5em;\n",
       "line-height:1.4em;\n",
       "padding-left:3em;\n",
       "padding-right:3em;\n",
       "}\n",
       "</style>\n"
      ],
      "text/plain": [
       "<IPython.core.display.HTML object>"
      ]
     },
     "execution_count": 1,
     "metadata": {},
     "output_type": "execute_result"
    }
   ],
   "source": [
    "\n"
   ]
  }
 ],
 "metadata": {
  "kernelspec": {
   "display_name": "Python 3",
   "language": "python",
   "name": "python3"
  },
  "language_info": {
   "codemirror_mode": {
    "name": "ipython",
    "version": 3
   },
   "file_extension": ".py",
   "mimetype": "text/x-python",
   "name": "python",
   "nbconvert_exporter": "python",
   "pygments_lexer": "ipython3",
   "version": "3.5.2"
  }
 },
 "nbformat": 4,
 "nbformat_minor": 1
}
